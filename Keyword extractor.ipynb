{
 "cells": [
  {
   "cell_type": "code",
   "execution_count": 52,
   "id": "acd63d4a",
   "metadata": {},
   "outputs": [],
   "source": [
    "import pandas as pd\n",
    "#from rake_nltk import Rake\n",
    "from rake_new2 import Rake"
   ]
  },
  {
   "cell_type": "code",
   "execution_count": 53,
   "id": "34c476e9",
   "metadata": {},
   "outputs": [],
   "source": [
    "bd_df = pd.read_csv('books_descriptions.csv')"
   ]
  },
  {
   "cell_type": "code",
   "execution_count": 54,
   "id": "45ead7e9",
   "metadata": {},
   "outputs": [],
   "source": [
    "# Initialize Rake object\n",
    "r = Rake()\n",
    "\n",
    "def extract_keywords(text):\n",
    "    r.get_keywords_from_raw_text(text)\n",
    "    keywords = r.get_word_freq()\n",
    "    return ', '.join(keywords)\n",
    "\n",
    "bd_df['keywords'] = bd_df['description'].apply(extract_keywords)\n",
    "\n",
    "# Create a new DataFrame with ISBN and keywords\n",
    "bk_df = bd_df[['isbn', 'keywords']].copy()"
   ]
  },
  {
   "cell_type": "code",
   "execution_count": 78,
   "id": "6891ab8d",
   "metadata": {},
   "outputs": [
    {
     "data": {
      "text/html": [
       "<div>\n",
       "<style scoped>\n",
       "    .dataframe tbody tr th:only-of-type {\n",
       "        vertical-align: middle;\n",
       "    }\n",
       "\n",
       "    .dataframe tbody tr th {\n",
       "        vertical-align: top;\n",
       "    }\n",
       "\n",
       "    .dataframe thead th {\n",
       "        text-align: right;\n",
       "    }\n",
       "</style>\n",
       "<table border=\"1\" class=\"dataframe\">\n",
       "  <thead>\n",
       "    <tr style=\"text-align: right;\">\n",
       "      <th></th>\n",
       "      <th>isbn</th>\n",
       "      <th>keywords</th>\n",
       "    </tr>\n",
       "  </thead>\n",
       "  <tbody>\n",
       "    <tr>\n",
       "      <th>0</th>\n",
       "      <td>7678360941900</td>\n",
       "      <td>favorites, nearly, 100, years, classic, novels...</td>\n",
       "    </tr>\n",
       "    <tr>\n",
       "      <th>1</th>\n",
       "      <td>9780006163831</td>\n",
       "      <td>volume, two, stephen, donaldson, acclaimed, se...</td>\n",
       "    </tr>\n",
       "    <tr>\n",
       "      <th>2</th>\n",
       "      <td>9780006178736</td>\n",
       "      <td>memorable, mesmerizing, heroine, jennifer, bri...</td>\n",
       "    </tr>\n",
       "    <tr>\n",
       "      <th>3</th>\n",
       "      <td>9780006280897</td>\n",
       "      <td>lewis, work, nature, love, divides, four, cate...</td>\n",
       "    </tr>\n",
       "    <tr>\n",
       "      <th>4</th>\n",
       "      <td>9780006353287</td>\n",
       "      <td>donation</td>\n",
       "    </tr>\n",
       "  </tbody>\n",
       "</table>\n",
       "</div>"
      ],
      "text/plain": [
       "            isbn                                           keywords\n",
       "0  7678360941900  favorites, nearly, 100, years, classic, novels...\n",
       "1  9780006163831  volume, two, stephen, donaldson, acclaimed, se...\n",
       "2  9780006178736  memorable, mesmerizing, heroine, jennifer, bri...\n",
       "3  9780006280897  lewis, work, nature, love, divides, four, cate...\n",
       "4  9780006353287                                           donation"
      ]
     },
     "execution_count": 78,
     "metadata": {},
     "output_type": "execute_result"
    }
   ],
   "source": [
    "bk_df.head()"
   ]
  },
  {
   "cell_type": "code",
   "execution_count": 82,
   "id": "0d2290c2",
   "metadata": {},
   "outputs": [
    {
     "data": {
      "text/plain": [
       "'harry, potter, half, blood, prince, opens, war, voldemort, begun, wizarding, world, split, middle, casualties, mount, effects, even, spill, onto, muggles, dumbledore, away, hogwarts, long, periods, order, phoenix, suffered, grievous, losses, yet, wars, life, goes, ron, hermione, passed, w, l, level, exams, start, specialist, n, e, courses, sixth, year, students, learn, apparate, losing, eyebrows, process, teenagers, flirt, fight, fall, love, becomes, captain, gryffindor, quidditch, team, draco, malfoy, pursues, dark, ends, classes, fascinating, confounding, ever, receives, extraordinary, help, potions, mysterious, importantly, work, together, uncover, full, complex, story, boy, named, tom, riddle, —, became, lord, like, son, one, muggle, born, parent, raised, unloved, speaker, parseltongue, similarities, end, teenaged, deeply, interested, objects, known, horcruxes, wizard, hide, part, soul, dares, splinter, murder, must, use, tools, disposal, draw, final, secret, ’, teachers, sly, professor, horace, slughorn, finally, hold, key, weaknesses, shocking, reversal, exposes, vulnerabilities, casts, future, shadow'"
      ]
     },
     "execution_count": 82,
     "metadata": {},
     "output_type": "execute_result"
    }
   ],
   "source": [
    "# Search if head of original dataset has good keywords\n",
    "bk_df.loc[bk_df['isbn'].astype(str) == '9780439785969', 'keywords'].iloc[0]"
   ]
  },
  {
   "cell_type": "code",
   "execution_count": 83,
   "id": "aa527d45",
   "metadata": {},
   "outputs": [
    {
     "name": "stdout",
     "output_type": "stream",
     "text": [
      "[9780131492028, 9780132370455, 9780262510875, 9780534491826, 9780596006624, 9780596523695, 9780596527082, 9780764555893, 9780879697129, 9780974514055, 9780976694007, 9781590596241, 9781845760182, 9780441014156, 9780130158857, 9780201616224, 9781932394696, 9780735619678]\n"
     ]
    }
   ],
   "source": [
    "# Search for a specific keyword\n",
    "keyword = 'programming'\n",
    "\n",
    "# Filter the DataFrame based on the keyword\n",
    "filtered_df = bk_df[bk_df['keywords'].str.contains(keyword, case=False)]\n",
    "matching_isbns = filtered_df['isbn'].tolist()\n",
    "\n",
    "print(matching_isbns)"
   ]
  },
  {
   "cell_type": "code",
   "execution_count": 84,
   "id": "b8ba04fe",
   "metadata": {},
   "outputs": [],
   "source": [
    "# Save the final reduced description dataset\n",
    "bk_df.to_csv('books_keywords.csv', index=False)"
   ]
  },
  {
   "cell_type": "code",
   "execution_count": null,
   "id": "effdbf63",
   "metadata": {},
   "outputs": [],
   "source": []
  }
 ],
 "metadata": {
  "kernelspec": {
   "display_name": "Python 3 (ipykernel)",
   "language": "python",
   "name": "python3"
  },
  "language_info": {
   "codemirror_mode": {
    "name": "ipython",
    "version": 3
   },
   "file_extension": ".py",
   "mimetype": "text/x-python",
   "name": "python",
   "nbconvert_exporter": "python",
   "pygments_lexer": "ipython3",
   "version": "3.9.12"
  }
 },
 "nbformat": 4,
 "nbformat_minor": 5
}
