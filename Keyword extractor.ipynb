{
  "metadata": {
    "kernelspec": {
      "name": "python",
      "display_name": "Python (Pyodide)",
      "language": "python"
    },
    "language_info": {
      "codemirror_mode": {
        "name": "python",
        "version": 3
      },
      "file_extension": ".py",
      "mimetype": "text/x-python",
      "name": "python",
      "nbconvert_exporter": "python",
      "pygments_lexer": "ipython3",
      "version": "3.8"
    }
  },
  "nbformat_minor": 5,
  "nbformat": 4,
  "cells": [
    {
      "cell_type": "code",
      "source": "import pandas as pd\n#from rake_nltk import Rake\nfrom rake_new2 import Rake",
      "metadata": {},
      "execution_count": 52,
      "outputs": [],
      "id": "acd63d4a"
    },
    {
      "cell_type": "code",
      "source": "bd_df = pd.read_csv('books_descriptions.csv')",
      "metadata": {},
      "execution_count": 53,
      "outputs": [],
      "id": "34c476e9"
    },
    {
      "cell_type": "code",
      "source": "# Initialize Rake object\nr = Rake()\n\ndef extract_keywords(text):\n    r.get_keywords_from_raw_text(text)\n    keywords = r.get_word_freq()\n    return ', '.join(keywords)\n\nbd_df['keywords'] = bd_df['description'].apply(extract_keywords)\n\n# Create a new DataFrame with ISBN and keywords\nbk_df = bd_df[['isbn', 'keywords']].copy()",
      "metadata": {},
      "execution_count": 54,
      "outputs": [],
      "id": "45ead7e9"
    },
    {
      "cell_type": "code",
      "source": "# Save the final reduced description dataset\nbk_df.to_csv('books_keywords.csv', index=False)",
      "metadata": {},
      "execution_count": 84,
      "outputs": [],
      "id": "b8ba04fe"
    }
  ]
}