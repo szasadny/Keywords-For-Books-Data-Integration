{
 "cells": [
  {
   "cell_type": "code",
   "execution_count": 4,
   "id": "43537640",
   "metadata": {},
   "outputs": [],
   "source": [
    "import pandas as pd\n",
    "import numpy as np\n",
    "import re\n",
    "import csv\n",
    "import codecs"
   ]
  },
  {
   "cell_type": "code",
   "execution_count": 91,
   "id": "36d3125a",
   "metadata": {},
   "outputs": [
    {
     "name": "stderr",
     "output_type": "stream",
     "text": [
      "C:\\Users\\SZasa\\AppData\\Local\\Temp\\ipykernel_2928\\2914265385.py:26: SettingWithCopyWarning: \n",
      "A value is trying to be set on a copy of a slice from a DataFrame.\n",
      "Try using .loc[row_indexer,col_indexer] = value instead\n",
      "\n",
      "See the caveats in the documentation: https://pandas.pydata.org/pandas-docs/stable/user_guide/indexing.html#returning-a-view-versus-a-copy\n",
      "  df_ext4['isbn'] = df_ext4['isbn'].astype(str)\n",
      "C:\\Users\\SZasa\\AppData\\Local\\Temp\\ipykernel_2928\\2914265385.py:36: SettingWithCopyWarning: \n",
      "A value is trying to be set on a copy of a slice from a DataFrame.\n",
      "Try using .loc[row_indexer,col_indexer] = value instead\n",
      "\n",
      "See the caveats in the documentation: https://pandas.pydata.org/pandas-docs/stable/user_guide/indexing.html#returning-a-view-versus-a-copy\n",
      "  df_ext6['isbn'] = df_ext6['isbn'].astype(str)\n",
      "C:\\Users\\SZasa\\AppData\\Local\\Temp\\ipykernel_2928\\2914265385.py:37: SettingWithCopyWarning: \n",
      "A value is trying to be set on a copy of a slice from a DataFrame.\n",
      "Try using .loc[row_indexer,col_indexer] = value instead\n",
      "\n",
      "See the caveats in the documentation: https://pandas.pydata.org/pandas-docs/stable/user_guide/indexing.html#returning-a-view-versus-a-copy\n",
      "  df_ext6['isbn'] = df_ext6['isbn'].str.replace('13:', '')\n"
     ]
    }
   ],
   "source": [
    "# Load and format the external datasets\n",
    "\n",
    "for i in range(1, 7):\n",
    "    filename = f'books_with_description{i}.csv'\n",
    "    locals()[\"df\" + str(i)] = pd.read_csv(filename)\n",
    "\n",
    "# Format for each dataset\n",
    "df_ext1 = df1[['book_isbn', 'book_desc']]\n",
    "df_ext1 = df_ext1.rename(columns={'book_isbn': 'isbn'})\n",
    "df_ext1 = df_ext1.rename(columns={'book_desc': 'description'})\n",
    "df_ext1['isbn'] = df_ext1['isbn'].astype(str)\n",
    "df_ext1['isbn'] = df_ext1['isbn'].str.replace('13:', '')\n",
    "df_ext1['isbn'] = df_ext1['isbn'].apply(lambda x: '{:.0f}'.format(float(x)) if 'E' in x else x.ljust(13, '0'))\n",
    "\n",
    "df_ext2 = df2[['isbn13', 'description']]\n",
    "df_ext2 = df_ext2.rename(columns={'isbn13': 'isbn'})\n",
    "df_ext2['isbn'] = df_ext2['isbn'].astype(str)\n",
    "df_ext2['isbn'] = df_ext2['isbn'].str.replace(r'\\.0$', '', regex=True)\n",
    "\n",
    "df_ext3 = df3[['isbn13', 'description']]\n",
    "df_ext3 = df_ext3.rename(columns={'isbn13': 'isbn'})\n",
    "df_ext3['isbn'] = df_ext3['isbn'].astype(str)\n",
    "df_ext3['isbn'] = df_ext3['isbn'].str.replace(r'\\.0$', '', regex=True)\n",
    "\n",
    "df_ext4 = df4[['isbn', 'description']]\n",
    "df_ext4['isbn'] = df_ext4['isbn'].astype(str)\n",
    "df_ext4 = df_ext4[df_ext4['isbn'].str.contains(r'^[eE]+$')]\n",
    "df_ext4['isbn'] = df_ext4['isbn'].apply(lambda x: '{:.0f}'.format(float(x)) if 'E' in x else x.ljust(13, '0'))\n",
    "\n",
    "df_ext5 = df5[['isbn13', 'description']]\n",
    "df_ext5 = df_ext5.rename(columns={'isbn13': 'isbn'})\n",
    "df_ext5['isbn'] = df_ext5['isbn'].astype(str)\n",
    "df_ext5['isbn'] = df_ext5['isbn'].str.replace(r'\\.0$', '', regex=True)\n",
    "\n",
    "df_ext6 = df6[['isbn', 'description']]\n",
    "df_ext6['isbn'] = df_ext6['isbn'].astype(str)\n",
    "df_ext6['isbn'] = df_ext6['isbn'].str.replace('13:', '')\n",
    "df_ext6 = df_ext6[df_ext6['isbn'].str.contains(r'^[eE]+$')]\n",
    "df_ext6['isbn'] = df_ext6['isbn'].apply(lambda x: '{:.0f}'.format(float(x)) if 'E' in x else x.ljust(13, '0'))\n",
    "\n",
    "# Join and clean dataframes\n",
    "combined_df = pd.concat([df_ext1, df_ext2, df_ext3, df_ext4, df_ext5, df_ext6])\n",
    "combined_df['isbn'] = combined_df['isbn'].replace('nan', np.nan)\n",
    "combined_df = combined_df.dropna()\n",
    "combined_df = combined_df.drop_duplicates(subset='isbn')\n",
    "combined_df['isbn'] = combined_df['isbn'].str.replace('X', '10')"
   ]
  },
  {
   "cell_type": "code",
   "execution_count": 48,
   "id": "af6e04a3",
   "metadata": {},
   "outputs": [],
   "source": [
    "# Fix manually the broken format in the delivered file\n",
    "with open('books.csv', 'rb') as input_file:\n",
    "\n",
    "    \n",
    "    decoder = codecs.iterdecode(input_file, 'utf-8', errors='replace')\n",
    "    reader = csv.reader(decoder)\n",
    "    rows = []\n",
    "    \n",
    "    # Modify the broken rows\n",
    "    for i, row in enumerate(reader):\n",
    "        if i == 3349:\n",
    "            row[2] = \"Sam Bass Warner Jr./Sam B. Warner\"\n",
    "            row[3] = \"3.58\"\n",
    "            row[4] = \"0674842111\"\n",
    "            row[5] = \"9780674842113\"\n",
    "            row[6] = \"en-US\"\n",
    "            row[7] = \"236\"\n",
    "            row[8] = \"61\"\n",
    "            row[9] = \"6\"\n",
    "            row[10] = \"4/20/2004\"\n",
    "            row[11] = \"Harvard University Press\"\n",
    "            del row[12] \n",
    "        if i == 4703:\n",
    "            row[2] = \"David E. Smith\"\n",
    "            row[3] = \"3.58\"\n",
    "            row[4] = \"1593600119\"\n",
    "            row[5] = \"9781593600112\"\n",
    "            row[6] = \"eng\"\n",
    "            row[7] = \"400\"\n",
    "            row[8] = \"26\"\n",
    "            row[9] = \"4\"\n",
    "            row[10] = \"4/6/2004\"\n",
    "            row[11] = \"Cold Spring Press\"\n",
    "            del row[12] \n",
    "        if i == 5878:\n",
    "            row[2] = \"James Wesley Rawles\"\n",
    "            row[3] = \"3.63\"\n",
    "            row[4] = \"156384155X\"\n",
    "            row[5] = \"9781563841552\"\n",
    "            row[6] = \"eng\"\n",
    "            row[7] = \"342\"\n",
    "            row[8] = \"38\"\n",
    "            row[9] = \"4\"\n",
    "            row[10] = \"1/15/1999\"\n",
    "            row[11] = \"Huntington House Publishers\"\n",
    "            del row[12] \n",
    "        if i == 8980:\n",
    "            row[2] = \"Brown Son & Ferguson\"\n",
    "            row[3] = \"0.00\"\n",
    "            row[4] = \"0851742718\"\n",
    "            row[5] = \"9780851742717\"\n",
    "            row[6] = \"eng\"\n",
    "            row[7] = \"49\"\n",
    "            row[8] = \"0\"\n",
    "            row[9] = \"0\"\n",
    "            row[10] = \"5/1/1977\"\n",
    "            row[11] = \"Brown Son & Ferguson Ltd.\"\n",
    "            del row[12] \n",
    "\n",
    "        # Append the row to the list\n",
    "        rows.append(row)\n",
    "\n",
    "# Open the output CSV file\n",
    "with open('books_clean.csv', 'w', newline='', encoding='utf-8') as output_file:\n",
    "    # Create a CSV writer object\n",
    "    writer = csv.writer(output_file)\n",
    "    \n",
    "    # Write the modified rows to the output file\n",
    "    writer.writerows(rows)"
   ]
  },
  {
   "cell_type": "code",
   "execution_count": 112,
   "id": "bbaa5eb3",
   "metadata": {},
   "outputs": [],
   "source": [
    "# Load and transform the delivered dataset\n",
    "df = pd.read_csv('books_clean.csv')\n",
    "df_imp = df[['isbn13', 'title', 'authors', 'publisher', 'average_rating']]\n",
    "df_imp = df_imp.rename(columns={'isbn13': 'isbn'})\n",
    "df_imp = df_imp.rename(columns={'authors': 'writer'})\n",
    "df_imp = df_imp.rename(columns={'average_rating': 'avg_score'})\n",
    "df_imp['isbn'] = df_imp['isbn'].astype(str).str.rstrip('.0').str.ljust(13, '0')\n",
    "df_imp['isbn'] = df_imp['isbn'].str.replace('X', '10')\n",
    "\n",
    "# Save the transformed set for direct database import\n",
    "df_imp.to_csv('books_import.csv', index=False)"
   ]
  },
  {
   "cell_type": "code",
   "execution_count": 113,
   "id": "88c7c87b",
   "metadata": {},
   "outputs": [
    {
     "name": "stdout",
     "output_type": "stream",
     "text": [
      "Number of matching books found: 8842  of  11127\n"
     ]
    }
   ],
   "source": [
    "# Intersection between the delivered and the scraped dataset\n",
    "merged_df = pd.merge(combined_df, df_imp, on='isbn', how='inner')\n",
    "book_desc_df = merged_df[['isbn', 'description']]\n",
    "\n",
    "print(\"Number of matching books found:\", len(book_desc_df), \" of \", len(df_imp))"
   ]
  },
  {
   "cell_type": "code",
   "execution_count": 114,
   "id": "fc506a13",
   "metadata": {},
   "outputs": [],
   "source": [
    "# Save the final reduced description dataset\n",
    "book_desc_df.to_csv('books_descriptions.csv', index=False)"
   ]
  },
  {
   "cell_type": "code",
   "execution_count": 115,
   "id": "599d3aa0",
   "metadata": {},
   "outputs": [
    {
     "data": {
      "text/plain": [
       "1045834"
      ]
     },
     "execution_count": 115,
     "metadata": {},
     "output_type": "execute_result"
    }
   ],
   "source": [
    "len(combined_df)"
   ]
  },
  {
   "cell_type": "code",
   "execution_count": 5,
   "id": "3394613f",
   "metadata": {},
   "outputs": [
    {
     "data": {
      "text/html": [
       "<div>\n",
       "<style scoped>\n",
       "    .dataframe tbody tr th:only-of-type {\n",
       "        vertical-align: middle;\n",
       "    }\n",
       "\n",
       "    .dataframe tbody tr th {\n",
       "        vertical-align: top;\n",
       "    }\n",
       "\n",
       "    .dataframe thead th {\n",
       "        text-align: right;\n",
       "    }\n",
       "</style>\n",
       "<table border=\"1\" class=\"dataframe\">\n",
       "  <thead>\n",
       "    <tr style=\"text-align: right;\">\n",
       "      <th></th>\n",
       "      <th>isbn</th>\n",
       "      <th>title</th>\n",
       "      <th>writer</th>\n",
       "      <th>publisher</th>\n",
       "      <th>avg_score</th>\n",
       "    </tr>\n",
       "  </thead>\n",
       "  <tbody>\n",
       "    <tr>\n",
       "      <th>0</th>\n",
       "      <td>9780439785969</td>\n",
       "      <td>Harry Potter and the Half-Blood Prince (Harry ...</td>\n",
       "      <td>J.K. Rowling/Mary GrandPré</td>\n",
       "      <td>Scholastic Inc.</td>\n",
       "      <td>4.57</td>\n",
       "    </tr>\n",
       "    <tr>\n",
       "      <th>1</th>\n",
       "      <td>9780439358071</td>\n",
       "      <td>Harry Potter and the Order of the Phoenix (Har...</td>\n",
       "      <td>J.K. Rowling/Mary GrandPré</td>\n",
       "      <td>Scholastic Inc.</td>\n",
       "      <td>4.49</td>\n",
       "    </tr>\n",
       "    <tr>\n",
       "      <th>2</th>\n",
       "      <td>9780439554893</td>\n",
       "      <td>Harry Potter and the Chamber of Secrets (Harry...</td>\n",
       "      <td>J.K. Rowling</td>\n",
       "      <td>Scholastic</td>\n",
       "      <td>4.42</td>\n",
       "    </tr>\n",
       "    <tr>\n",
       "      <th>3</th>\n",
       "      <td>9780439655484</td>\n",
       "      <td>Harry Potter and the Prisoner of Azkaban (Harr...</td>\n",
       "      <td>J.K. Rowling/Mary GrandPré</td>\n",
       "      <td>Scholastic Inc.</td>\n",
       "      <td>4.56</td>\n",
       "    </tr>\n",
       "    <tr>\n",
       "      <th>4</th>\n",
       "      <td>9780439682589</td>\n",
       "      <td>Harry Potter Boxed Set  Books 1-5 (Harry Potte...</td>\n",
       "      <td>J.K. Rowling/Mary GrandPré</td>\n",
       "      <td>Scholastic</td>\n",
       "      <td>4.78</td>\n",
       "    </tr>\n",
       "  </tbody>\n",
       "</table>\n",
       "</div>"
      ],
      "text/plain": [
       "            isbn                                              title  \\\n",
       "0  9780439785969  Harry Potter and the Half-Blood Prince (Harry ...   \n",
       "1  9780439358071  Harry Potter and the Order of the Phoenix (Har...   \n",
       "2  9780439554893  Harry Potter and the Chamber of Secrets (Harry...   \n",
       "3  9780439655484  Harry Potter and the Prisoner of Azkaban (Harr...   \n",
       "4  9780439682589  Harry Potter Boxed Set  Books 1-5 (Harry Potte...   \n",
       "\n",
       "                       writer        publisher  avg_score  \n",
       "0  J.K. Rowling/Mary GrandPré  Scholastic Inc.       4.57  \n",
       "1  J.K. Rowling/Mary GrandPré  Scholastic Inc.       4.49  \n",
       "2                J.K. Rowling       Scholastic       4.42  \n",
       "3  J.K. Rowling/Mary GrandPré  Scholastic Inc.       4.56  \n",
       "4  J.K. Rowling/Mary GrandPré       Scholastic       4.78  "
      ]
     },
     "execution_count": 5,
     "metadata": {},
     "output_type": "execute_result"
    }
   ],
   "source": [
    "df_imp = pd.read_csv('books_import.csv')\n",
    "df_imp.head()"
   ]
  },
  {
   "cell_type": "code",
   "execution_count": null,
   "id": "bfe44b86",
   "metadata": {},
   "outputs": [],
   "source": []
  }
 ],
 "metadata": {
  "kernelspec": {
   "display_name": "Python 3 (ipykernel)",
   "language": "python",
   "name": "python3"
  },
  "language_info": {
   "codemirror_mode": {
    "name": "ipython",
    "version": 3
   },
   "file_extension": ".py",
   "mimetype": "text/x-python",
   "name": "python",
   "nbconvert_exporter": "python",
   "pygments_lexer": "ipython3",
   "version": "3.9.12"
  }
 },
 "nbformat": 4,
 "nbformat_minor": 5
}
